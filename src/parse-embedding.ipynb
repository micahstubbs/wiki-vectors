{
 "cells": [
  {
   "cell_type": "code",
   "execution_count": 11,
   "metadata": {
    "collapsed": false
   },
   "outputs": [],
   "source": [
    "import csv\n",
    "with open('../data/2017-01-01_2017-01-30_wikidata_100', 'rb') as myfile:\n",
    "    outputfile  = open('../data/2017-01-01_2017-01-30_wikidata_100-metadata.tsv', \"wb\")\n",
    "    spamreader = csv.reader(myfile, delimiter=' ', )\n",
    "    writer = csv.writer(outputfile, delimiter='\\t')\n",
    "    for row in spamreader:\n",
    "         writer.writerow([row[0]])"
   ]
  },
  {
   "cell_type": "code",
   "execution_count": null,
   "metadata": {
    "collapsed": true
   },
   "outputs": [],
   "source": []
  }
 ],
 "metadata": {
  "kernelspec": {
   "display_name": "Python 2",
   "language": "python",
   "name": "python2"
  },
  "language_info": {
   "codemirror_mode": {
    "name": "ipython",
    "version": 2
   },
   "file_extension": ".py",
   "mimetype": "text/x-python",
   "name": "python",
   "nbconvert_exporter": "python",
   "pygments_lexer": "ipython2",
   "version": "2.7.12"
  }
 },
 "nbformat": 4,
 "nbformat_minor": 0
}
