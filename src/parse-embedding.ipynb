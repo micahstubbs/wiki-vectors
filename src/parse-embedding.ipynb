{
 "cells": [
  {
   "cell_type": "markdown",
   "metadata": {},
   "source": [
    "### parse-embedding\n",
    "\n",
    "this notebook parses the [Wikipedia Navigation Vectors](https://figshare.com/articles/Wikipedia_Vectors/3146878) embeddings files into a format that we can \n",
    "\n",
    "![TF Embedding projector format](http://i.imgur.com/92jfEcS.png)"
   ]
  },
  {
   "cell_type": "markdown",
   "metadata": {},
   "source": [
    "### parse out metadata\n",
    "\n",
    "first we create a `metadata.tsv` file  \n",
    "the row labels are the first column of the input file, `2017-01-01_2017-01-30_wikidata_100`"
   ]
  },
  {
   "cell_type": "code",
   "execution_count": 13,
   "metadata": {
    "collapsed": false
   },
   "outputs": [],
   "source": [
    "import csv\n",
    "with open('../data/2017-01-01_2017-01-30_wikidata_100', 'rb') as myfile:\n",
    "    outputfile  = open('../data/2017-01-01_2017-01-30_wikidata_100-metadata.tsv', \"wb\")\n",
    "    reader = csv.reader(myfile, delimiter=' ')\n",
    "    writer = csv.writer(outputfile, delimiter='\\t')\n",
    "    for row in reader:\n",
    "         writer.writerow([row[0]])"
   ]
  },
  {
   "cell_type": "markdown",
   "metadata": {},
   "source": [
    "### parse out data"
   ]
  },
  {
   "cell_type": "code",
   "execution_count": null,
   "metadata": {
    "collapsed": true
   },
   "outputs": [],
   "source": [
    "import csv\n",
    "with open('../data/2017-01-01_2017-01-30_wikidata_100', 'rb') as myfile: \n",
    "    # get number of columns\n",
    "    for line in myfile.readlines():\n",
    "        array = line.split(',')\n",
    "        first_item = array[0]\n",
    "            \n",
    "    num_columns = len(array)\n",
    "    # http://stackoverflow.com/questions/11696472/seek-function\n",
    "    myfile.seek(0)\n",
    "    \n",
    "    reader = csv.reader(myfile, delimiter=' ')\n",
    "        included_cols = range(1, num_columns)\n",
    "    \n",
    "    outputfile  = open('../data/2017-01-01_2017-01-30_wikidata_100-data.tsv', \"wb\")\n",
    "    writer = csv.writer(outputfile, delimiter='\\t')\n",
    "        \n",
    "    for row in reader:\n",
    "        content = list(row[i] for i in included_cols)\n",
    "        writer.writerow(content)"
   ]
  },
  {
   "cell_type": "code",
   "execution_count": null,
   "metadata": {
    "collapsed": true
   },
   "outputs": [],
   "source": []
  }
 ],
 "metadata": {
  "kernelspec": {
   "display_name": "Python 2",
   "language": "python",
   "name": "python2"
  },
  "language_info": {
   "codemirror_mode": {
    "name": "ipython",
    "version": 2
   },
   "file_extension": ".py",
   "mimetype": "text/x-python",
   "name": "python",
   "nbconvert_exporter": "python",
   "pygments_lexer": "ipython2",
   "version": "2.7.12"
  }
 },
 "nbformat": 4,
 "nbformat_minor": 0
}
