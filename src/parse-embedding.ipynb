{
 "cells": [
  {
   "cell_type": "markdown",
   "metadata": {},
   "source": [
    "### parse-embedding\n",
    "\n",
    "this notebook parses the [Wikipedia Navigation Vectors](https://figshare.com/articles/Wikipedia_Vectors/3146878) embeddings files into the format expected by the [TensorFlow Embedding Projector](http://projector.tensorflow.org/) \n",
    "\n",
    "![TF Embedding projector format](http://i.imgur.com/92jfEcS.png)\n",
    "[read more about the Embedding Projector here](https://www.tensorflow.org/get_started/embedding_viz)  "
   ]
  },
  {
   "cell_type": "markdown",
   "metadata": {},
   "source": [
    "### parse out metadata\n",
    "\n",
    "first we create a `metadata.tsv` file  \n",
    "the row labels are the first column of the input file, `2017-01-01_2017-01-30_wikidata_100`"
   ]
  },
  {
   "cell_type": "code",
   "execution_count": 13,
   "metadata": {
    "collapsed": false
   },
   "outputs": [],
   "source": [
    "import csv\n",
    "with open('../data/2017-01-01_2017-01-30_wikidata_100', 'rb') as myfile:\n",
    "    outputfile  = open('../data/2017-01-01_2017-01-30_wikidata_100-metadata.tsv', \"wb\")\n",
    "    reader = csv.reader(myfile, delimiter=' ')\n",
    "    writer = csv.writer(outputfile, delimiter='\\t')\n",
    "    for row in reader:\n",
    "         writer.writerow([row[0]])"
   ]
  },
  {
   "cell_type": "markdown",
   "metadata": {},
   "source": [
    "### parse out data"
   ]
  },
  {
   "cell_type": "code",
   "execution_count": 30,
   "metadata": {
    "collapsed": false
   },
   "outputs": [
    {
     "name": "stdout",
     "output_type": "stream",
     "text": [
      "num_columns\n",
      "102\n",
      "included_cols\n",
      "[1, 2, 3, 4, 5, 6, 7, 8, 9, 10, 11, 12, 13, 14, 15, 16, 17, 18, 19, 20, 21, 22, 23, 24, 25, 26, 27, 28, 29, 30, 31, 32, 33, 34, 35, 36, 37, 38, 39, 40, 41, 42, 43, 44, 45, 46, 47, 48, 49, 50, 51, 52, 53, 54, 55, 56, 57, 58, 59, 60, 61, 62, 63, 64, 65, 66, 67, 68, 69, 70, 71, 72, 73, 74, 75, 76, 77, 78, 79, 80, 81, 82, 83, 84, 85, 86, 87, 88, 89, 90, 91, 92, 93, 94, 95, 96, 97, 98, 99, 100, 101]\n"
     ]
    }
   ],
   "source": [
    "import csv\n",
    "with open('../data/2017-01-01_2017-01-30_wikidata_100', 'rb') as myfile: \n",
    "    # get number of columns\n",
    "    for line in myfile.readlines():\n",
    "        array = line.split(' ')\n",
    "        first_item = array[0]\n",
    "            \n",
    "    num_columns = len(array)\n",
    "    print 'num_columns'\n",
    "    print num_columns\n",
    "    # http://stackoverflow.com/questions/11696472/seek-function\n",
    "    myfile.seek(0)\n",
    "    \n",
    "    reader = csv.reader(myfile, delimiter=' ')\n",
    "    included_cols = range(1, num_columns)\n",
    "    print 'included_cols'\n",
    "    print included_cols\n",
    "    \n",
    "    outputfile  = open('../data/2017-01-01_2017-01-30_wikidata_100-data.tsv', \"wb\")\n",
    "    writer = csv.writer(outputfile, delimiter='\\t')\n",
    "        \n",
    "    for index, row in enumerate(reader):\n",
    "        # skip first row as it does not appear to be a valid-length vector\n",
    "        if index == 0:\n",
    "            continue\n",
    "            \n",
    "        # print 'row'\n",
    "        # print row\n",
    "        # print 'len(row)'\n",
    "        # print len(row)\n",
    "        content = list(row[i] for i in included_cols)\n",
    "        # print 'content:'\n",
    "        # print content\n",
    "        writer.writerow(content)\n",
    "        \n",
    "        # uncomment this to test the code in this for loop on just a few rows\n",
    "        # if index >= 3: \n",
    "        #    break"
   ]
  },
  {
   "cell_type": "code",
   "execution_count": null,
   "metadata": {
    "collapsed": true
   },
   "outputs": [],
   "source": []
  }
 ],
 "metadata": {
  "kernelspec": {
   "display_name": "Python 2",
   "language": "python",
   "name": "python2"
  },
  "language_info": {
   "codemirror_mode": {
    "name": "ipython",
    "version": 2
   },
   "file_extension": ".py",
   "mimetype": "text/x-python",
   "name": "python",
   "nbconvert_exporter": "python",
   "pygments_lexer": "ipython2",
   "version": "2.7.12"
  }
 },
 "nbformat": 4,
 "nbformat_minor": 0
}
