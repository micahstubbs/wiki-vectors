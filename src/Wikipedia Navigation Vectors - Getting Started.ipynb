{
 "cells": [
  {
   "cell_type": "markdown",
   "metadata": {},
   "source": [
    "# Wikipedia Navigation Vectors - Getting Started"
   ]
  },
  {
   "cell_type": "markdown",
   "metadata": {},
   "source": [
    "In this project, we learned embeddings for Wikipedia articles and [Wikidata](https://www.wikidata.org/wiki/Wikidata:Main_Page) items by applying [Word2vec](https://en.wikipedia.org/wiki/Word2vec) models to a corpus of reading sessions.\n",
    "\n",
    "Although Word2vec models were developed to learn word embeddings from a corpus of sentences, they can be applied to any kind of sequential data. The learned embeddings have the property that items with similar neighbors in the training corpus have similar representations (as measured by the [cosine similarity](https://en.wikipedia.org/wiki/Cosine_similarity), for example). Consequently, applying Wor2vec to reading sessions results in article embeddings, where articles that tend to be read in close succession have similar representations. Since people usually generate sequences of semantically related articles while reading, these embeddings also capture semantic similarity between articles.\n",
    "\n",
    "There have been several approaches to learning vector representations of Wikipedia articles that capture semantic similarity by using the article text or the links between articles. An advantage of training Word2vec models on reading sessions, is that they learn from the actions of millions of humans who are using a diverse array of signals, including the article text, links, third-party search engines, and their existing domain knowledge, to determine what to read next in order to learn about a topic.\n",
    "\n",
    "An additional feature of not relying on text or links, is that we can learn representations for [Wikidata Items](https://www.wikidata.org/wiki/Help:Items) by simply mapping article titles within each session to Wikidata items using [Wikidata sitelinks](https://www.wikidata.org/wiki/Help:Sitelinks). As a result, these Wikidata vectors are jointly trained over reading sessions for all Wikipedia language editions, allowing the model to learn from people across the globe. This approach also overcomes data sparsity issues for smaller Wikipedias, since the representations for articles in smaller Wikipedias are shared across many other potentially larger ones. Finally, instead of needing to generate a separate embedding for each Wikipedia in each language, we have a single model that gives a vector representation for any article in any language, provided the article has been mapped to a Wikidata item."
   ]
  },
  {
   "cell_type": "markdown",
   "metadata": {},
   "source": [
    "### Documentation"
   ]
  },
  {
   "cell_type": "markdown",
   "metadata": {},
   "source": [
    "More detailed documentation can be found on [here](https://meta.wikimedia.org/wiki/Research:Wikipedia_Navigation_Vectors)"
   ]
  },
  {
   "cell_type": "markdown",
   "metadata": {},
   "source": [
    "### Downloading the Vectors"
   ]
  },
  {
   "cell_type": "markdown",
   "metadata": {},
   "source": [
    "The vectors are available for download at [figshare](https://dx.doi.org/10.6084/m9.figshare.3146878)."
   ]
  },
  {
   "cell_type": "markdown",
   "metadata": {},
   "source": [
    "### A Simple Embedding Class"
   ]
  },
  {
   "cell_type": "markdown",
   "metadata": {},
   "source": [
    "The `WikiEmbedding` class takes care of loading the vector data into a matrix and exposes a method for finding the nearest neighbors of an article in the embedding."
   ]
  },
  {
   "cell_type": "code",
   "execution_count": 34,
   "metadata": {
    "collapsed": false
   },
   "outputs": [
    {
     "name": "stdout",
     "output_type": "stream",
     "text": [
      "The autoreload extension is already loaded. To reload it, use:\n",
      "  %reload_ext autoreload\n"
     ]
    }
   ],
   "source": [
    "import numpy as np\n",
    "from sklearn.preprocessing import normalize\n",
    "import requests\n",
    "import matplotlib.pyplot as plt\n",
    "\n",
    "import warnings\n",
    "warnings.filterwarnings('ignore')\n",
    "%matplotlib inline\n",
    "%load_ext autoreload\n",
    "%autoreload 2\n",
    "\n",
    "\n",
    "class WikiEmbedding:\n",
    "\n",
    "    def __init__(self, fname):\n",
    "        \n",
    "        self.w2idx = {}\n",
    "        self.idx2w = []\n",
    "    \n",
    "        with open(fname, 'rb') as f:\n",
    "            \n",
    "            m, n = next(f).decode('utf8').strip().split(' ')\n",
    "            self.E = np.zeros((int(m), int(n)))\n",
    "\n",
    "            for i, l in enumerate(f):\n",
    "                try: \n",
    "                    l = l.decode('utf8').strip().split(' ')\n",
    "                except:\n",
    "                    continue\n",
    "                w = l[0]\n",
    "                self.E[i] = np.array(l[1:])\n",
    "                self.w2idx[w] = i\n",
    "                self.idx2w.append(w)\n",
    "                \n",
    "        self.E = normalize(self.E)\n",
    "        self.idx2w = np.array(self.idx2w)\n",
    "\n",
    "    def most_similar(self, w, n=10, min_similarity=0.5):\n",
    "        \"\"\"\n",
    "        Find the top-N most similar words to w, based on cosine similarity.\n",
    "        As a speed optimization, only consider neighbors with a similarity\n",
    "        above min_similarity\n",
    "        \"\"\"\n",
    "        \n",
    "        if type(w) is str:\n",
    "            w = self.E[self.w2idx[w]]\n",
    "            print w\n",
    "\n",
    "        scores = self.E.dot(w)\n",
    "        # only consider neighbors above threshold\n",
    "        min_idxs = np.where(scores > min_similarity)\n",
    "        ranking = np.argsort(-scores[min_idxs])[1:(n+1)]\n",
    "        nn_ws = self.idx2w[min_idxs][ranking]\n",
    "        nn_scores = scores[min_idxs][ranking]\n",
    "        return list(zip(list(nn_ws), list(nn_scores)))\n",
    "    "
   ]
  },
  {
   "cell_type": "markdown",
   "metadata": {},
   "source": [
    "### Exploring Nearest Neighbors"
   ]
  },
  {
   "cell_type": "markdown",
   "metadata": {},
   "source": [
    "Here we load an embedding over English Wikipedia articles trained on reading sessions in enwiki for the first week of March 2016 (Note: we will get to using Wikidata embeddings in a bit). We then show the nearest neighbors for some sample articles."
   ]
  },
  {
   "cell_type": "code",
   "execution_count": 5,
   "metadata": {
    "collapsed": false
   },
   "outputs": [],
   "source": [
    "en_embedding = WikiEmbedding('../data/2017-01-01_2017-01-30_en_100')"
   ]
  },
  {
   "cell_type": "code",
   "execution_count": 10,
   "metadata": {
    "collapsed": false
   },
   "outputs": [
    {
     "data": {
      "text/plain": [
       "[(u'Q-learning', 0.93507505604574637),\n",
       " (u'Deep_learning', 0.92531878036102222),\n",
       " (u'Artificial_neural_network', 0.92167906109247899),\n",
       " (u'Recurrent_neural_network', 0.917550962805326),\n",
       " (u'Backpropagation', 0.90748670935153819),\n",
       " (u'Markov_decision_process', 0.89918786140556839),\n",
       " (u'Temporal_difference_learning', 0.89473118249836414),\n",
       " (u'Convolutional_neural_network', 0.89023614184281374),\n",
       " (u'Machine_learning', 0.8902083256640454),\n",
       " (u'Frederic_W._Boatwright', 0.88893617041513795)]"
      ]
     },
     "execution_count": 10,
     "metadata": {},
     "output_type": "execute_result"
    }
   ],
   "source": [
    "en_embedding.most_similar('Reinforcement_learning')"
   ]
  },
  {
   "cell_type": "code",
   "execution_count": 11,
   "metadata": {
    "collapsed": false
   },
   "outputs": [
    {
     "data": {
      "text/plain": [
       "[(u'Wikipedia', 0.82164422483387667),\n",
       " (u'Akwafei_Ajeakwa', 0.76219697936847686),\n",
       " (u'English_Wikipedia', 0.76136873920928938),\n",
       " (u'Webserver_directory_index', 0.75737755792297046),\n",
       " (u'Wiki_markup', 0.71452243899441981),\n",
       " (u'Wikia', 0.68448413744660641),\n",
       " (u'Wiki_software', 0.67206498375951051),\n",
       " (u'.uk', 0.66855620655758652),\n",
       " (u'WikiWikiWeb', 0.6679476571703179),\n",
       " (u'Home_page', 0.66096165311425004)]"
      ]
     },
     "execution_count": 11,
     "metadata": {},
     "output_type": "execute_result"
    }
   ],
   "source": [
    "en_embedding.most_similar('Wiki')"
   ]
  },
  {
   "cell_type": "markdown",
   "metadata": {},
   "source": [
    "### Visualizing the Embedding using TSNE\n",
    "\n",
    "\n",
    "The [t-SNE](https://en.wikipedia.org/wiki/T-distributed_stochastic_neighbor_embedding) algorithm tries to take a collection of high dimensional vectors and find lower dimensional representations such that the relative distances between points stay preserved as well as possible. This allows us to visualize a part of the embedding in 2D. In the plot below you see the 2D t-SNE projection for the 20 most popular articles in the training data. (Note: The code for getting a readable scatter plot is a bit hairy, so the code has been factored out to a helper file)"
   ]
  },
  {
   "cell_type": "code",
   "execution_count": 13,
   "metadata": {
    "collapsed": false
   },
   "outputs": [],
   "source": [
    "from getting_started_helpers import get_tsne, plot_tsne"
   ]
  },
  {
   "cell_type": "code",
   "execution_count": 14,
   "metadata": {
    "collapsed": false
   },
   "outputs": [
    {
     "data": {
      "image/png": "[encoded data removed]",
      "text/plain": [
       "<matplotlib.figure.Figure at 0x16b989490>"
      ]
     },
     "metadata": {},
     "output_type": "display_data"
    }
   ],
   "source": [
    "tsne_en_embedding = get_tsne(en_embedding, pca_dim = 10, n_items=5000)\n",
    "plot_tsne(en_embedding, tsne_en_embedding, n = 20)"
   ]
  },
  {
   "cell_type": "markdown",
   "metadata": {},
   "source": [
    "When looking at a single week of data, the most popular articles tend to be about things trending in the media. We can see that articles about similar topics and events cluster together."
   ]
  },
  {
   "cell_type": "markdown",
   "metadata": {},
   "source": [
    "### Working with Wikidata Vectors\n",
    "\n",
    "One difficulty with working with the Wikidata embedding is that item ids are hard to interpret. We can, however, use the Wikidata API to map back and forth between Wikipedia articles and Wikidata ids. Below are some helper funtions for doing the mapping."
   ]
  },
  {
   "cell_type": "code",
   "execution_count": 35,
   "metadata": {
    "collapsed": false
   },
   "outputs": [],
   "source": [
    "def items_to_titles(items, lang):\n",
    "    \"\"\"\n",
    "    Input: a list of Wikidata item ids\n",
    "    Output: a dictionary mapping from ids to title in lang\n",
    "    \n",
    "    Note: items without an articlce in lang are not included in the output\n",
    "    \"\"\"\n",
    "    lang += 'wiki'\n",
    "    payload = {'action': 'wbgetentities',\n",
    "               'props': 'sitelinks/urls',\n",
    "               'format': 'json',\n",
    "               'ids': '|'.join(items),               \n",
    "              }\n",
    "    r = requests.get('https://www.wikidata.org/w/api.php', params=payload).json()\n",
    "    \n",
    "    return parse_wikidata_sitelinks(r, lang, True)\n",
    "    \n",
    "    \n",
    "def titles_to_items(titles, lang):\n",
    "    \"\"\"\n",
    "    Input: a list of article titles in lang\n",
    "    Output: a dictionary mapping from titles in lang to Wikidata ids\n",
    "    \n",
    "    Note: articles in lang without a Wikidata id are not included in the output\n",
    "\n",
    "    \"\"\"\n",
    "    lang += 'wiki'\n",
    "    payload = {'action': 'wbgetentities',\n",
    "               'props': 'sitelinks/urls',\n",
    "               'format': 'json',\n",
    "               'sites': lang,\n",
    "               'titles': '|'.join(titles),\n",
    "              }\n",
    "    r = requests.get('https://www.wikidata.org/w/api.php', params=payload).json()\n",
    "    \n",
    "    return parse_wikidata_sitelinks(r, lang, False)\n",
    "\n",
    "\n",
    "def parse_wikidata_sitelinks(response, lang, item_to_title):\n",
    "    \"\"\"\n",
    "    Helper function for parsing sitelinks from Wikidata Api\n",
    "    \"\"\"\n",
    "    d = {}\n",
    "    if 'entities' not in response:\n",
    "        print ('No entities in reponse')\n",
    "        return d\n",
    "\n",
    "    for item, v in response['entities'].items():\n",
    "        if 'sitelinks' in v:\n",
    "            if lang in v['sitelinks']:\n",
    "                title = v['sitelinks'][lang]['title'].replace(' ', '_')\n",
    "                if item_to_title:\n",
    "                    d[item] = title\n",
    "                else:\n",
    "                    d[title] = item\n",
    "    return d"
   ]
  },
  {
   "cell_type": "markdown",
   "metadata": {},
   "source": [
    "Given these helper functions, we can now look for nearest neighbors for a Wikipedia article in any language by first mapping the article to its Wikidata item, then finding the nearest neighbors in the Wikidata embedding and finally mapping the Wikidata items back to article names."
   ]
  },
  {
   "cell_type": "code",
   "execution_count": 36,
   "metadata": {
    "collapsed": true
   },
   "outputs": [],
   "source": [
    "def most_similar(embedding, title, lang, n=10, min_similarity=0.7):\n",
    "    item = titles_to_items([title,], lang)[title]\n",
    "    nn = embedding.most_similar(item, n=n, min_similarity=min_similarity)\n",
    "    nn_items = [x[0] for x in nn]\n",
    "    nn_items_to_titles = items_to_titles(nn_items, lang)\n",
    "    return [(nn_items_to_titles[x[0]], x[1]) for x in nn if x[0] in nn_items_to_titles]    "
   ]
  },
  {
   "cell_type": "markdown",
   "metadata": {},
   "source": [
    "Lets try it out! First we load the wikidata embedding."
   ]
  },
  {
   "cell_type": "code",
   "execution_count": 38,
   "metadata": {
    "collapsed": false
   },
   "outputs": [],
   "source": [
    "wikidata_embedding = WikiEmbedding('../data/2017-01-01_2017-01-30_wikidata_100')"
   ]
  },
  {
   "cell_type": "markdown",
   "metadata": {},
   "source": [
    "Then we can query nearest neighbors for 'Q1', the 'Universe' Wikidata item."
   ]
  },
  {
   "cell_type": "code",
   "execution_count": 37,
   "metadata": {
    "collapsed": false
   },
   "outputs": [
    {
     "ename": "TypeError",
     "evalue": "only length-1 arrays can be converted to Python scalars",
     "output_type": "error",
     "traceback": [
      "\u001b[0;31m---------------------------------------------------------------------------\u001b[0m",
      "\u001b[0;31mTypeError\u001b[0m                                 Traceback (most recent call last)",
      "\u001b[0;32m<ipython-input-37-7d63698eb169>\u001b[0m in \u001b[0;36m<module>\u001b[0;34m()\u001b[0m\n\u001b[0;32m----> 1\u001b[0;31m \u001b[0mwikidata_embedding\u001b[0m\u001b[0;34m.\u001b[0m\u001b[0mmost_similar\u001b[0m\u001b[0;34m(\u001b[0m\u001b[0;34m'Q1'\u001b[0m\u001b[0;34m)\u001b[0m\u001b[0;34m\u001b[0m\u001b[0m\n\u001b[0m",
      "\u001b[0;32m<ipython-input-30-fc384f244ffc>\u001b[0m in \u001b[0;36mmost_similar\u001b[0;34m(self, w, n, min_similarity)\u001b[0m\n\u001b[1;32m     42\u001b[0m         \u001b[0mabove\u001b[0m \u001b[0mmin_similarity\u001b[0m\u001b[0;34m\u001b[0m\u001b[0m\n\u001b[1;32m     43\u001b[0m         \"\"\"\n\u001b[0;32m---> 44\u001b[0;31m         \u001b[0mself\u001b[0m\u001b[0;34m.\u001b[0m\u001b[0mE\u001b[0m \u001b[0;34m=\u001b[0m \u001b[0mmap\u001b[0m\u001b[0;34m(\u001b[0m\u001b[0;32mlambda\u001b[0m \u001b[0mx\u001b[0m\u001b[0;34m:\u001b[0m \u001b[0mfloat\u001b[0m\u001b[0;34m(\u001b[0m\u001b[0mx\u001b[0m\u001b[0;34m)\u001b[0m\u001b[0;34m,\u001b[0m\u001b[0mself\u001b[0m\u001b[0;34m.\u001b[0m\u001b[0mE\u001b[0m\u001b[0;34m)\u001b[0m\u001b[0;34m\u001b[0m\u001b[0m\n\u001b[0m\u001b[1;32m     45\u001b[0m \u001b[0;34m\u001b[0m\u001b[0m\n\u001b[1;32m     46\u001b[0m         \u001b[0;32mif\u001b[0m \u001b[0mtype\u001b[0m\u001b[0;34m(\u001b[0m\u001b[0mw\u001b[0m\u001b[0;34m)\u001b[0m \u001b[0;32mis\u001b[0m \u001b[0mstr\u001b[0m\u001b[0;34m:\u001b[0m\u001b[0;34m\u001b[0m\u001b[0m\n",
      "\u001b[0;32m<ipython-input-30-fc384f244ffc>\u001b[0m in \u001b[0;36m<lambda>\u001b[0;34m(x)\u001b[0m\n\u001b[1;32m     42\u001b[0m         \u001b[0mabove\u001b[0m \u001b[0mmin_similarity\u001b[0m\u001b[0;34m\u001b[0m\u001b[0m\n\u001b[1;32m     43\u001b[0m         \"\"\"\n\u001b[0;32m---> 44\u001b[0;31m         \u001b[0mself\u001b[0m\u001b[0;34m.\u001b[0m\u001b[0mE\u001b[0m \u001b[0;34m=\u001b[0m \u001b[0mmap\u001b[0m\u001b[0;34m(\u001b[0m\u001b[0;32mlambda\u001b[0m \u001b[0mx\u001b[0m\u001b[0;34m:\u001b[0m \u001b[0mfloat\u001b[0m\u001b[0;34m(\u001b[0m\u001b[0mx\u001b[0m\u001b[0;34m)\u001b[0m\u001b[0;34m,\u001b[0m\u001b[0mself\u001b[0m\u001b[0;34m.\u001b[0m\u001b[0mE\u001b[0m\u001b[0;34m)\u001b[0m\u001b[0;34m\u001b[0m\u001b[0m\n\u001b[0m\u001b[1;32m     45\u001b[0m \u001b[0;34m\u001b[0m\u001b[0m\n\u001b[1;32m     46\u001b[0m         \u001b[0;32mif\u001b[0m \u001b[0mtype\u001b[0m\u001b[0;34m(\u001b[0m\u001b[0mw\u001b[0m\u001b[0;34m)\u001b[0m \u001b[0;32mis\u001b[0m \u001b[0mstr\u001b[0m\u001b[0;34m:\u001b[0m\u001b[0;34m\u001b[0m\u001b[0m\n",
      "\u001b[0;31mTypeError\u001b[0m: only length-1 arrays can be converted to Python scalars"
     ]
    }
   ],
   "source": [
    "wikidata_embedding.most_similar('Q1')"
   ]
  },
  {
   "cell_type": "markdown",
   "metadata": {},
   "source": [
    "Or we can get query the Wikidata embedding for the nearest neighbors for enwiki 'Universe' article."
   ]
  },
  {
   "cell_type": "code",
   "execution_count": 29,
   "metadata": {
    "collapsed": false
   },
   "outputs": [
    {
     "ename": "TypeError",
     "evalue": "Cannot cast array data from dtype('float64') to dtype('<U32') according to the rule 'safe'",
     "output_type": "error",
     "traceback": [
      "\u001b[0;31m---------------------------------------------------------------------------\u001b[0m",
      "\u001b[0;31mTypeError\u001b[0m                                 Traceback (most recent call last)",
      "\u001b[0;32m<ipython-input-29-a7dda7e357b4>\u001b[0m in \u001b[0;36m<module>\u001b[0;34m()\u001b[0m\n\u001b[0;32m----> 1\u001b[0;31m \u001b[0mmost_similar\u001b[0m\u001b[0;34m(\u001b[0m\u001b[0mwikidata_embedding\u001b[0m\u001b[0;34m,\u001b[0m \u001b[0;34m'Universe'\u001b[0m\u001b[0;34m,\u001b[0m \u001b[0;34m'en'\u001b[0m\u001b[0;34m,\u001b[0m \u001b[0mn\u001b[0m\u001b[0;34m=\u001b[0m\u001b[0;36m30\u001b[0m\u001b[0;34m,\u001b[0m \u001b[0mmin_similarity\u001b[0m\u001b[0;34m=\u001b[0m\u001b[0;36m0.6\u001b[0m\u001b[0;34m)\u001b[0m\u001b[0;34m\u001b[0m\u001b[0m\n\u001b[0m",
      "\u001b[0;32m<ipython-input-26-8b50630e7844>\u001b[0m in \u001b[0;36mmost_similar\u001b[0;34m(embedding, title, lang, n, min_similarity)\u001b[0m\n\u001b[1;32m      1\u001b[0m \u001b[0;32mdef\u001b[0m \u001b[0mmost_similar\u001b[0m\u001b[0;34m(\u001b[0m\u001b[0membedding\u001b[0m\u001b[0;34m,\u001b[0m \u001b[0mtitle\u001b[0m\u001b[0;34m,\u001b[0m \u001b[0mlang\u001b[0m\u001b[0;34m,\u001b[0m \u001b[0mn\u001b[0m\u001b[0;34m=\u001b[0m\u001b[0;36m10\u001b[0m\u001b[0;34m,\u001b[0m \u001b[0mmin_similarity\u001b[0m\u001b[0;34m=\u001b[0m\u001b[0;36m0.7\u001b[0m\u001b[0;34m)\u001b[0m\u001b[0;34m:\u001b[0m\u001b[0;34m\u001b[0m\u001b[0m\n\u001b[1;32m      2\u001b[0m     \u001b[0mitem\u001b[0m \u001b[0;34m=\u001b[0m \u001b[0mtitles_to_items\u001b[0m\u001b[0;34m(\u001b[0m\u001b[0;34m[\u001b[0m\u001b[0mtitle\u001b[0m\u001b[0;34m,\u001b[0m\u001b[0;34m]\u001b[0m\u001b[0;34m,\u001b[0m \u001b[0mlang\u001b[0m\u001b[0;34m)\u001b[0m\u001b[0;34m[\u001b[0m\u001b[0mtitle\u001b[0m\u001b[0;34m]\u001b[0m\u001b[0;34m\u001b[0m\u001b[0m\n\u001b[0;32m----> 3\u001b[0;31m     \u001b[0mnn\u001b[0m \u001b[0;34m=\u001b[0m \u001b[0membedding\u001b[0m\u001b[0;34m.\u001b[0m\u001b[0mmost_similar\u001b[0m\u001b[0;34m(\u001b[0m\u001b[0mitem\u001b[0m\u001b[0;34m,\u001b[0m \u001b[0mn\u001b[0m\u001b[0;34m=\u001b[0m\u001b[0mn\u001b[0m\u001b[0;34m,\u001b[0m \u001b[0mmin_similarity\u001b[0m\u001b[0;34m=\u001b[0m\u001b[0mmin_similarity\u001b[0m\u001b[0;34m)\u001b[0m\u001b[0;34m\u001b[0m\u001b[0m\n\u001b[0m\u001b[1;32m      4\u001b[0m     \u001b[0mnn_items\u001b[0m \u001b[0;34m=\u001b[0m \u001b[0;34m[\u001b[0m\u001b[0mx\u001b[0m\u001b[0;34m[\u001b[0m\u001b[0;36m0\u001b[0m\u001b[0;34m]\u001b[0m \u001b[0;32mfor\u001b[0m \u001b[0mx\u001b[0m \u001b[0;32min\u001b[0m \u001b[0mnn\u001b[0m\u001b[0;34m]\u001b[0m\u001b[0;34m\u001b[0m\u001b[0m\n\u001b[1;32m      5\u001b[0m     \u001b[0mnn_items_to_titles\u001b[0m \u001b[0;34m=\u001b[0m \u001b[0mitems_to_titles\u001b[0m\u001b[0;34m(\u001b[0m\u001b[0mnn_items\u001b[0m\u001b[0;34m,\u001b[0m \u001b[0mlang\u001b[0m\u001b[0;34m)\u001b[0m\u001b[0;34m\u001b[0m\u001b[0m\n",
      "\u001b[0;32m<ipython-input-24-b17ed6f9d3ac>\u001b[0m in \u001b[0;36mmost_similar\u001b[0;34m(self, w, n, min_similarity)\u001b[0m\n\u001b[1;32m     47\u001b[0m             \u001b[0;32mprint\u001b[0m \u001b[0mw\u001b[0m\u001b[0;34m\u001b[0m\u001b[0m\n\u001b[1;32m     48\u001b[0m \u001b[0;34m\u001b[0m\u001b[0m\n\u001b[0;32m---> 49\u001b[0;31m         \u001b[0mscores\u001b[0m \u001b[0;34m=\u001b[0m \u001b[0mself\u001b[0m\u001b[0;34m.\u001b[0m\u001b[0mE\u001b[0m\u001b[0;34m.\u001b[0m\u001b[0mdot\u001b[0m\u001b[0;34m(\u001b[0m\u001b[0mw\u001b[0m\u001b[0;34m)\u001b[0m\u001b[0;34m\u001b[0m\u001b[0m\n\u001b[0m\u001b[1;32m     50\u001b[0m         \u001b[0;31m# only consider neighbors above threshold\u001b[0m\u001b[0;34m\u001b[0m\u001b[0;34m\u001b[0m\u001b[0m\n\u001b[1;32m     51\u001b[0m         \u001b[0mmin_idxs\u001b[0m \u001b[0;34m=\u001b[0m \u001b[0mnp\u001b[0m\u001b[0;34m.\u001b[0m\u001b[0mwhere\u001b[0m\u001b[0;34m(\u001b[0m\u001b[0mscores\u001b[0m \u001b[0;34m>\u001b[0m \u001b[0mmin_similarity\u001b[0m\u001b[0;34m)\u001b[0m\u001b[0;34m\u001b[0m\u001b[0m\n",
      "\u001b[0;31mTypeError\u001b[0m: Cannot cast array data from dtype('float64') to dtype('<U32') according to the rule 'safe'"
     ]
    }
   ],
   "source": [
    "most_similar(wikidata_embedding, 'Universe', 'en', n=30, min_similarity=0.6)"
   ]
  },
  {
   "cell_type": "code",
   "execution_count": 12,
   "metadata": {
    "collapsed": false
   },
   "outputs": [
    {
     "data": {
      "text/plain": [
       "[('Universe_(disambiguation)', 0.84477422002858837),\n",
       " ('Galaxy', 0.81135711307867753),\n",
       " ('Big_Bang', 0.80632248705977405),\n",
       " ('Cosmos', 0.74788564287585446),\n",
       " ('Outer_space', 0.74763828248109099),\n",
       " ('Observable_universe', 0.74040813066583788),\n",
       " ('Milky_Way', 0.73970201130507318)]"
      ]
     },
     "execution_count": 12,
     "metadata": {},
     "output_type": "execute_result"
    }
   ],
   "source": [
    "most_similar(wikidata_embedding, 'Universe', 'en')"
   ]
  },
  {
   "cell_type": "markdown",
   "metadata": {},
   "source": [
    "As a comparison, here are the nearest neighbors for 'Universe' in the enwiki embedding, which was only trained on enwiki reading sessions. The top neighbors are pretty different."
   ]
  },
  {
   "cell_type": "markdown",
   "metadata": {},
   "source": [
    "### Application Ideas\n",
    "\n",
    "Here are some ideas for how to use these embeddings to improve Wikipedia.\n",
    "\n",
    "#### Translation Recommendations\n",
    "\n",
    "We recently created a [tool](http://recommend.wmflabs.org/#Recommend) for recommending articles for translation between Wikipedias. Users choose a source language to translate from and a target language to translate to. Then they choose a seed article in the source language that represents their interests. We can find articles in the source language missing in the target language using Wikidata sitelinks, and then rank the missing articles according to the similarity between their vectors and the seed vector. \n",
    "\n",
    "#### Reading Recommendations\n",
    "The Reading Team at WMF recently introduced a \"Related Pages\" feature that gives readers 3 recommendations for further reading. The current recommendations are generated by the [More Like This Query](https://www.elastic.co/guide/en/elasticsearch/reference/current/query-dsl-mlt-query.html) feature in Elastic Search.\n",
    "\n",
    "Instead, we could generate recommendations for further reading by looking up the nearest neighbors of the current article the reader is on in an embedding. The beauty of this approach is that the nearest neighbors are by definition articles that tend to be read together. Furthermore, the Wikidata embedding would allow us to use a single model to generate recommendations across all languages!\n",
    "\n",
    "#### Link Recommendations\n",
    "If articles are frequently read within the same session, you might be able to make Wikipedia easier to navigate if you were to create a link between them. For a given article you could generate recommendations for links to add by finding the nearest neighbors that are not already linked and adding a link if the original article has a suitable anchor text. Again, the Wikidata embedding would allow you to build a model for all languages."
   ]
  },
  {
   "cell_type": "code",
   "execution_count": 15,
   "metadata": {
    "collapsed": false
   },
   "outputs": [
    {
     "data": {
      "text/plain": [
       "[('Deborah_Orr', 0.91539459281436186),\n",
       " ('Jonathan_Self', 0.91529695359415975),\n",
       " ('Umbrella_(novel)', 0.88568083130588349),\n",
       " ('Shark_(novel)', 0.88144038836349925),\n",
       " ('Peter_Self', 0.88066891173737261),\n",
       " ('Cock_and_Bull', 0.8700406005395005),\n",
       " ('Dorian,_an_Imitation', 0.85718259988297951),\n",
       " ('Jonathan_Coe', 0.8134598307405887),\n",
       " ('What_a_Carve_Up!_(novel)', 0.80775135057346681),\n",
       " ('The_Book_of_Dave', 0.79721259734964156)]"
      ]
     },
     "execution_count": 15,
     "metadata": {},
     "output_type": "execute_result"
    }
   ],
   "source": [
    "en_embedding.most_similar('Will_Self')"
   ]
  },
  {
   "cell_type": "code",
   "execution_count": 16,
   "metadata": {
    "collapsed": false
   },
   "outputs": [
    {
     "data": {
      "text/plain": [
       "[('Kissing_traditions', 0.72906072754159257),\n",
       " ('French_kiss', 0.72400639405281908),\n",
       " ('Kissing,_Bavaria', 0.68524468918114323),\n",
       " ('Air_kiss', 0.66284194730918222),\n",
       " ('Hug', 0.6409782198490559),\n",
       " ('Kiss_(band)', 0.62808919174690359),\n",
       " ('Foreplay', 0.62006375083990484),\n",
       " ('Cheek_kissing', 0.5881288871976873),\n",
       " ('Making_out', 0.58465149766396551),\n",
       " ('Post_Office_(game)', 0.5804142777106831)]"
      ]
     },
     "execution_count": 16,
     "metadata": {},
     "output_type": "execute_result"
    }
   ],
   "source": [
    "en_embedding.most_similar('Kiss')"
   ]
  },
  {
   "cell_type": "code",
   "execution_count": 17,
   "metadata": {
    "collapsed": false
   },
   "outputs": [
    {
     "data": {
      "text/plain": [
       "[('Phyllis_Newman', 0.87788281050268258),\n",
       " ('Adolph_Green', 0.86793390643667045),\n",
       " ('Bambi_Linn', 0.83127314845549538),\n",
       " ('List_of_Broadway_musicals_stars', 0.82739932678976524),\n",
       " ('Plain_and_Fancy', 0.823583427500724),\n",
       " ('Betty_Comden', 0.82328068158088841),\n",
       " ('Bells_Are_Ringing_(musical)', 0.82092651923716164),\n",
       " ('Marin_Mazzie', 0.82055069146017445),\n",
       " ('I_Love_My_Wife', 0.8199105465494283),\n",
       " ('The_Most_Happy_Fella', 0.81986287660477519)]"
      ]
     },
     "execution_count": 17,
     "metadata": {},
     "output_type": "execute_result"
    }
   ],
   "source": [
    "en_embedding.most_similar('Amanda_Green')"
   ]
  },
  {
   "cell_type": "code",
   "execution_count": 18,
   "metadata": {
    "collapsed": false
   },
   "outputs": [
    {
     "data": {
      "text/plain": [
       "[('Lucknow', 0.729475983488725),\n",
       " ('List_of_districts_of_Uttar_Pradesh', 0.71982895178235284),\n",
       " ('Madhya_Pradesh', 0.70149555349502302),\n",
       " ('Varanasi_district', 0.70075913022256842),\n",
       " ('History_of_Uttar_Pradesh', 0.69928461973048661),\n",
       " ('Pradesh', 0.6957367273967574),\n",
       " ('Western_Uttar_Pradesh', 0.68628632668005041),\n",
       " ('Moradabad_district', 0.68589711236395601),\n",
       " ('Varanasi_division', 0.6843656500536035),\n",
       " ('Purvanchal', 0.68426054961414429)]"
      ]
     },
     "execution_count": 18,
     "metadata": {},
     "output_type": "execute_result"
    }
   ],
   "source": [
    "en_embedding.most_similar('Uttar_Pradesh')"
   ]
  },
  {
   "cell_type": "code",
   "execution_count": null,
   "metadata": {
    "collapsed": true
   },
   "outputs": [],
   "source": []
  }
 ],
 "metadata": {
  "kernelspec": {
   "display_name": "Python 2",
   "language": "python",
   "name": "python2"
  },
  "language_info": {
   "codemirror_mode": {
    "name": "ipython",
    "version": 2
   },
   "file_extension": ".py",
   "mimetype": "text/x-python",
   "name": "python",
   "nbconvert_exporter": "python",
   "pygments_lexer": "ipython2",
   "version": "2.7.12"
  }
 },
 "nbformat": 4,
 "nbformat_minor": 0
}
